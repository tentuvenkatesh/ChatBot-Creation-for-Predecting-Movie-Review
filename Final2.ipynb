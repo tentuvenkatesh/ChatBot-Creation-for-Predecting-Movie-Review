{
 "cells": [
  {
   "cell_type": "code",
   "execution_count": 1,
   "id": "3667fb68",
   "metadata": {},
   "outputs": [
    {
     "name": "stderr",
     "output_type": "stream",
     "text": [
      "[nltk_data] Downloading package stopwords to\n",
      "[nltk_data]     C:\\Users\\tentu\\AppData\\Roaming\\nltk_data...\n",
      "[nltk_data]   Package stopwords is already up-to-date!\n",
      "C:\\Users\\tentu\\anaconda3\\Lib\\site-packages\\keras\\src\\layers\\core\\dense.py:87: UserWarning: Do not pass an `input_shape`/`input_dim` argument to a layer. When using Sequential models, prefer using an `Input(shape)` object as the first layer in the model instead.\n",
      "  super().__init__(activity_regularizer=activity_regularizer, **kwargs)\n"
     ]
    },
    {
     "name": "stdout",
     "output_type": "stream",
     "text": [
      "Epoch 1/10\n",
      "\u001b[1m1250/1250\u001b[0m \u001b[32m━━━━━━━━━━━━━━━━━━━━\u001b[0m\u001b[37m\u001b[0m \u001b[1m35s\u001b[0m 23ms/step - accuracy: 0.5005 - loss: 0.6932\n",
      "Epoch 2/10\n",
      "\u001b[1m1250/1250\u001b[0m \u001b[32m━━━━━━━━━━━━━━━━━━━━\u001b[0m\u001b[37m\u001b[0m \u001b[1m29s\u001b[0m 23ms/step - accuracy: 0.9106 - loss: 0.2178\n",
      "Epoch 3/10\n",
      "\u001b[1m1250/1250\u001b[0m \u001b[32m━━━━━━━━━━━━━━━━━━━━\u001b[0m\u001b[37m\u001b[0m \u001b[1m41s\u001b[0m 23ms/step - accuracy: 0.9999 - loss: 2.1067e-04\n",
      "Epoch 4/10\n",
      "\u001b[1m1250/1250\u001b[0m \u001b[32m━━━━━━━━━━━━━━━━━━━━\u001b[0m\u001b[37m\u001b[0m \u001b[1m40s\u001b[0m 22ms/step - accuracy: 1.0000 - loss: 2.7593e-06\n",
      "Epoch 5/10\n",
      "\u001b[1m1250/1250\u001b[0m \u001b[32m━━━━━━━━━━━━━━━━━━━━\u001b[0m\u001b[37m\u001b[0m \u001b[1m28s\u001b[0m 22ms/step - accuracy: 1.0000 - loss: 2.4724e-06\n",
      "Epoch 6/10\n",
      "\u001b[1m1250/1250\u001b[0m \u001b[32m━━━━━━━━━━━━━━━━━━━━\u001b[0m\u001b[37m\u001b[0m \u001b[1m28s\u001b[0m 23ms/step - accuracy: 1.0000 - loss: 2.1211e-06\n",
      "Epoch 7/10\n",
      "\u001b[1m1250/1250\u001b[0m \u001b[32m━━━━━━━━━━━━━━━━━━━━\u001b[0m\u001b[37m\u001b[0m \u001b[1m28s\u001b[0m 22ms/step - accuracy: 1.0000 - loss: 1.6829e-06\n",
      "Epoch 8/10\n",
      "\u001b[1m1250/1250\u001b[0m \u001b[32m━━━━━━━━━━━━━━━━━━━━\u001b[0m\u001b[37m\u001b[0m \u001b[1m29s\u001b[0m 23ms/step - accuracy: 1.0000 - loss: 1.1740e-06\n",
      "Epoch 9/10\n",
      "\u001b[1m1250/1250\u001b[0m \u001b[32m━━━━━━━━━━━━━━━━━━━━\u001b[0m\u001b[37m\u001b[0m \u001b[1m29s\u001b[0m 23ms/step - accuracy: 1.0000 - loss: 7.5889e-07\n",
      "Epoch 10/10\n",
      "\u001b[1m1250/1250\u001b[0m \u001b[32m━━━━━━━━━━━━━━━━━━━━\u001b[0m\u001b[37m\u001b[0m \u001b[1m29s\u001b[0m 23ms/step - accuracy: 1.0000 - loss: 4.0124e-07\n"
     ]
    },
    {
     "name": "stderr",
     "output_type": "stream",
     "text": [
      "2024-08-09 15:10:32.012 \n",
      "  \u001b[33m\u001b[1mWarning:\u001b[0m to view this Streamlit app on a browser, run it with the following\n",
      "  command:\n",
      "\n",
      "    streamlit run C:\\Users\\tentu\\anaconda3\\Lib\\site-packages\\ipykernel_launcher.py [ARGUMENTS]\n",
      "2024-08-09 15:10:32.024 Session state does not function when running a script without `streamlit run`\n"
     ]
    }
   ],
   "source": [
    "import pandas as pd  # type: ignore\n",
    "import numpy as np # type: ignore\n",
    "import matplotlib.pyplot as plt # type: ignore\n",
    "import re\n",
    "from nltk.tokenize import word_tokenize # type: ignore\n",
    "from nltk.corpus import stopwords # type: ignore\n",
    "from nltk.stem import PorterStemmer, WordNetLemmatizer # type: ignore\n",
    "from sklearn.feature_extraction.text import TfidfVectorizer # type: ignore\n",
    "from sklearn.preprocessing import LabelEncoder # type: ignore\n",
    "from sklearn.model_selection import train_test_split # type: ignore\n",
    "from keras.utils import to_categorical # type: ignore\n",
    "from keras import Sequential # type: ignore\n",
    "from keras.layers import Dense # type: ignore\n",
    "import joblib # type: ignore\n",
    "import nltk # type: ignore\n",
    "import streamlit as st # type: ignore\n",
    "\n",
    "# Load dataset\n",
    "df = pd.read_csv('IMDB Dataset.csv')\n",
    "\n",
    "# Text preprocessing\n",
    "df['clean_text'] = df['review'].apply(lambda x: re.sub(\"<.*?>\", \"\", x))\n",
    "df['clean_text'] = df['clean_text'].apply(lambda x: re.sub(r'[^\\w\\s]', \"\", x))\n",
    "df['clean_text'] = df['clean_text'].str.lower()\n",
    "df['tokenize_text'] = df['clean_text'].apply(lambda x: word_tokenize(x))\n",
    "\n",
    "nltk.download('stopwords')\n",
    "stop_words = set(stopwords.words('english'))\n",
    "df['filter_text'] = df['tokenize_text'].apply(lambda x: [word for word in x if word not in stop_words])\n",
    "\n",
    "stem = PorterStemmer()\n",
    "df['stem_text'] = df['filter_text'].apply(lambda x: [stem.stem(word) for word in x])\n",
    "\n",
    "lemma = WordNetLemmatizer()\n",
    "df['lemma_text'] = df['filter_text'].apply(lambda x: [lemma.lemmatize(word) for word in x])\n",
    "\n",
    "X = df['stem_text']\n",
    "y = df['sentiment']\n",
    "\n",
    "# Train-test split\n",
    "X_train, X_test, y_train, y_test = train_test_split(X, y, test_size=0.2, random_state=42)\n",
    "\n",
    "# Vectorizing text data\n",
    "tfidf = TfidfVectorizer(lowercase=False)\n",
    "X_train = tfidf.fit_transform(X_train.apply(lambda x: ''.join(x)))\n",
    "X_test = tfidf.transform(X_test.apply(lambda x: ''.join(x)))\n",
    "\n",
    "# Encoding labels\n",
    "le = LabelEncoder()\n",
    "y_train = le.fit_transform(y_train)\n",
    "y_test = le.transform(y_test)\n",
    "y_train = to_categorical(y_train, num_classes=2)\n",
    "\n",
    "# Building and training the model\n",
    "model = Sequential([\n",
    "    Dense(128, activation='relu', input_shape=(X_train.shape[1],)),\n",
    "    Dense(64, activation='relu'),\n",
    "    Dense(32, activation='relu'),\n",
    "    Dense(2, activation='sigmoid')\n",
    "])\n",
    "model.compile(optimizer='adam', loss='binary_crossentropy', metrics=['accuracy'])\n",
    "model.fit(X_train, y_train, epochs=10)\n",
    "\n",
    "# Saving the model and vectorizer\n",
    "joblib.dump(model, 'model4.pkl')\n",
    "joblib.dump(tfidf, 'tfidf4.pkl')\n",
    "\n",
    "# Loading the model and vectorizer\n",
    "model = joblib.load('model4.pkl')\n",
    "tfidf_vector = joblib.load('tfidf4.pkl')\n",
    "\n",
    "# Defining the sentiment prediction function\n",
    "stemmer = PorterStemmer()\n",
    "stop_words = set(stopwords.words('english'))\n",
    "\n",
    "def predict_sentiment(review):\n",
    "    cleaned_review = re.sub('<.*?>', '', review)\n",
    "    cleaned_review = re.sub(r'[^\\w\\s]', '', cleaned_review)\n",
    "    cleaned_review = cleaned_review.lower()\n",
    "    tokenized_review = word_tokenize(cleaned_review)\n",
    "    filtered_review = [word for word in tokenized_review if word not in stop_words]\n",
    "    stemmed_review = [stemmer.stem(word) for word in filtered_review]\n",
    "    tfidf_review = tfidf_vector.transform([''.join(stemmed_review)])\n",
    "    sentiment_prediction = model.predict(tfidf_review)\n",
    "    if sentiment_prediction[0][1] > 0.6:\n",
    "        return 'positive'\n",
    "    else:\n",
    "        return 'negative'\n",
    "\n",
    "# Streamlit app\n",
    "st.title('Sentiment Analysis Chatbot')\n",
    "st.write('Enter a movie review to get the sentiment prediction (positive/negative).')\n",
    "\n",
    "review = st.text_input('Enter your review:')\n",
    "if st.button('Predict'):\n",
    "    sentiment = predict_sentiment(review)\n",
    "    st.write(f'The predicted sentiment is: {sentiment}')"
   ]
  }
 ],
 "metadata": {
  "kernelspec": {
   "display_name": "Python 3 (ipykernel)",
   "language": "python",
   "name": "python3"
  },
  "language_info": {
   "codemirror_mode": {
    "name": "ipython",
    "version": 3
   },
   "file_extension": ".py",
   "mimetype": "text/x-python",
   "name": "python",
   "nbconvert_exporter": "python",
   "pygments_lexer": "ipython3",
   "version": "3.11.5"
  },
  "varInspector": {
   "cols": {
    "lenName": 16,
    "lenType": 16,
    "lenVar": 40
   },
   "kernels_config": {
    "python": {
     "delete_cmd_postfix": "",
     "delete_cmd_prefix": "del ",
     "library": "var_list.py",
     "varRefreshCmd": "print(var_dic_list())"
    },
    "r": {
     "delete_cmd_postfix": ") ",
     "delete_cmd_prefix": "rm(",
     "library": "var_list.r",
     "varRefreshCmd": "cat(var_dic_list()) "
    }
   },
   "types_to_exclude": [
    "module",
    "function",
    "builtin_function_or_method",
    "instance",
    "_Feature"
   ],
   "window_display": false
  }
 },
 "nbformat": 4,
 "nbformat_minor": 5
}
